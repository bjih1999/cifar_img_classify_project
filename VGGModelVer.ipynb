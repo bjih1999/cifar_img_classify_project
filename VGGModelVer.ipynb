{
  "nbformat": 4,
  "nbformat_minor": 0,
  "metadata": {
    "colab": {
      "name": "VGGModelVer.ipynb",
      "provenance": [],
      "collapsed_sections": [],
      "authorship_tag": "ABX9TyOZntfcl31tc+zjErpd7fuM",
      "include_colab_link": true
    },
    "kernelspec": {
      "name": "python3",
      "display_name": "Python 3"
    },
    "language_info": {
      "name": "python"
    },
    "accelerator": "GPU"
  },
  "cells": [
    {
      "cell_type": "markdown",
      "metadata": {
        "id": "view-in-github",
        "colab_type": "text"
      },
      "source": [
        "<a href=\"https://colab.research.google.com/github/bjih1999/cifar_img_classify_project/blob/master/VGGModelVer.ipynb\" target=\"_parent\"><img src=\"https://colab.research.google.com/assets/colab-badge.svg\" alt=\"Open In Colab\"/></a>"
      ]
    },
    {
      "cell_type": "code",
      "metadata": {
        "colab": {
          "base_uri": "https://localhost:8080/"
        },
        "id": "bt8AKM-xnNMH",
        "outputId": "d67a7270-4f54-4483-f904-c1f10cb7dc59"
      },
      "source": [
        "from matplotlib import pyplot as plt\n",
        "\n",
        "import tensorflow as tf\n",
        "from tensorflow.keras import datasets, layers, models\n",
        "from tensorflow.keras.applications import VGG16\n",
        "from keras_preprocessing import image\n",
        "\n",
        "IMAGE_SIZE = 32\n",
        "\n",
        "CHANNEL_SIZE = 3\n",
        "\n",
        "cifar10 = datasets.cifar10\n",
        "# 데이터셋 다운로드 및 준비\n",
        "(train_images, train_labels), (test_images, test_labels) = cifar10.load_data()\n",
        "train_images = train_images.reshape((50000, 32, 32, 3))\n",
        "test_images = test_images.reshape((10000, 32, 32, 3))\n",
        "\n",
        "# 픽셀 값을 0~1 사이로 정규화합니다.\n",
        "train_images, test_images = train_images / 255.0, test_images / 255.0\n",
        "\n",
        "# 합성곱 층 만들기\n",
        "# 아래 6줄의 코드에서 Conv2D와 MaxPooling2D 층을 쌓는 일반적인 패턴으로 합성곱 층을 정의합니다.\n",
        "# CNN은 배치(batch) 크기를 제외하고 (이미지 높이, 이미지 너비, 컬러 채널) 크기의 텐서(tensor)를 입력으로 받습니다.\n",
        "# MNIST 데이터는 (흑백 이미지이기 때문에) 컬러 채널(channel)이 하나지만 컬러 이미지는 (R,G,B) 세 개의 채널을 가집니다\n",
        "# 이 예에서는 MNIST 이미지 포맷인 (28, 28, 1) 크기의 입력을 처리하는 CNN을 정의하겠습니다. 이 값을 첫 번째 층의 input_shape 매개변수로 전달합니다.\n",
        "\n",
        "# 참고 : https://dryjelly.tistory.com/147\n",
        "vgg_model = VGG16(weights='imagenet', include_top=False, input_shape=(IMAGE_SIZE, IMAGE_SIZE, CHANNEL_SIZE))\n",
        "\n",
        "\n",
        "model = models.Sequential()\n",
        "\n",
        "for layer in vgg_model.layers[:-1]:\n",
        "  model.add(layer)\n",
        "\n",
        "for layer in model.layers:\n",
        "  layer.trainable = False\n",
        "\n",
        "model.add(tf.keras.layers.Conv2D(filters=1024, kernel_size=(3, 3), padding='same', activation='relu'))\n",
        "model.add(tf.keras.layers.GlobalAveragePooling2D())\n",
        "\n",
        "# Dense 층 추가하기\n",
        "# 모델을 완성하려면 마지막 합성곱 층의 출력 텐서(크기 (4, 4, 64))를 하나 이상의 Dense 층에 주입하여 분류를 수행합니다.\n",
        "# Dense 층은 벡터(1D)를 입력으로 받는데 현재 출력은 3D 텐서입니다.\n",
        "# 먼저 3D 출력을 1D로 펼치겠습니다.\n",
        "model.add(layers.Flatten())\n",
        "# 그다음 하나 이상의 Dense 층을 그 위에 추가하겠습니다.\n",
        "model.add(layers.Dense(64, activation='relu'))\n",
        "# MNIST 데이터는 10개의 클래스가 있으므로 마지막에 Dense 층에 10개의 출력과 소프트맥스 활성화 함수를 사용합니다.\n",
        "model.add(layers.Dense(10, activation='softmax'))\n",
        "'''\n",
        "ayer_names = [layer.name for layer in model.layers]\n",
        "layer_outputs = [layer.output for layer in model.layers]\n",
        "\n",
        "feature_map_model = tf.keras.models.Model(inputs=model.inputs, outputs=layer_outputs)\n",
        "image_path= r\"cat.jpg\"\n",
        "img = image.load_img(image_path, target_size=(150, 150))\n",
        "input = image.img_to_array(img)\n",
        "input = input.reshape((1,) + input.shape)\n",
        "input = x.reshape((1,) + x.shape)\n",
        "input /= 255.0\n",
        "feature_maps = feature_map_model.predict(input)\n",
        "for layer_name, feature_map in zip(layer_names, feature_maps):\n",
        "    print(f\"The shape of the {layer_name} is =======>> {feature_map.shape}\")\n",
        "'''\n",
        "# 모델 컴파일 및 훈련\n",
        "# 옵티마이저, 손실함수, 지표\n",
        "\n",
        "model.compile(optimizer='adam',\n",
        "              loss='sparse_categorical_crossentropy',\n",
        "              metrics=['accuracy'])\n",
        "\n",
        "# 학습시킬 문제와 정답, 훈련 횟수\n",
        "history = model.fit(train_images, train_labels, epochs=10, validation_split=0.25)\n",
        "\n",
        "# 모델 평가\n",
        "# 풀게 할 문제와 정답\n",
        "test_loss, test_acc = model.evaluate(test_images,  test_labels, verbose=2)\n",
        "print(test_loss), print(test_acc)\n",
        "\n",
        "# model.summary() 모델 구조 출력\n"
      ],
      "execution_count": 1,
      "outputs": [
        {
          "output_type": "stream",
          "text": [
            "Downloading data from https://www.cs.toronto.edu/~kriz/cifar-10-python.tar.gz\n",
            "170500096/170498071 [==============================] - 6s 0us/step\n",
            "Downloading data from https://storage.googleapis.com/tensorflow/keras-applications/vgg16/vgg16_weights_tf_dim_ordering_tf_kernels_notop.h5\n",
            "58892288/58889256 [==============================] - 1s 0us/step\n",
            "Epoch 1/10\n",
            "1172/1172 [==============================] - 47s 14ms/step - loss: 1.3657 - accuracy: 0.5204 - val_loss: 1.2127 - val_accuracy: 0.5729\n",
            "Epoch 2/10\n",
            "1172/1172 [==============================] - 16s 13ms/step - loss: 1.1656 - accuracy: 0.5901 - val_loss: 1.1867 - val_accuracy: 0.5825\n",
            "Epoch 3/10\n",
            "1172/1172 [==============================] - 16s 13ms/step - loss: 1.0732 - accuracy: 0.6212 - val_loss: 1.1549 - val_accuracy: 0.6056\n",
            "Epoch 4/10\n",
            "1172/1172 [==============================] - 16s 13ms/step - loss: 1.0009 - accuracy: 0.6475 - val_loss: 1.1388 - val_accuracy: 0.6030\n",
            "Epoch 5/10\n",
            "1172/1172 [==============================] - 16s 13ms/step - loss: 0.9326 - accuracy: 0.6706 - val_loss: 1.0890 - val_accuracy: 0.6254\n",
            "Epoch 6/10\n",
            "1172/1172 [==============================] - 16s 13ms/step - loss: 0.8717 - accuracy: 0.6918 - val_loss: 1.1154 - val_accuracy: 0.6173\n",
            "Epoch 7/10\n",
            "1172/1172 [==============================] - 16s 13ms/step - loss: 0.8039 - accuracy: 0.7143 - val_loss: 1.1359 - val_accuracy: 0.6241\n",
            "Epoch 8/10\n",
            "1172/1172 [==============================] - 16s 13ms/step - loss: 0.7440 - accuracy: 0.7367 - val_loss: 1.1533 - val_accuracy: 0.6179\n",
            "Epoch 9/10\n",
            "1172/1172 [==============================] - 16s 13ms/step - loss: 0.6816 - accuracy: 0.7594 - val_loss: 1.2206 - val_accuracy: 0.6122\n",
            "Epoch 10/10\n",
            "1172/1172 [==============================] - 16s 13ms/step - loss: 0.6220 - accuracy: 0.7814 - val_loss: 1.2147 - val_accuracy: 0.6260\n",
            "313/313 - 3s - loss: 1.2128 - accuracy: 0.6199\n",
            "1.2128137350082397\n",
            "0.6198999881744385\n"
          ],
          "name": "stdout"
        }
      ]
    }
  ]
}